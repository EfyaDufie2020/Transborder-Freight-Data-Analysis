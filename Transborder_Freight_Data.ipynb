{
  "nbformat": 4,
  "nbformat_minor": 0,
  "metadata": {
    "colab": {
      "provenance": [],
      "gpuType": "T4",
      "authorship_tag": "ABX9TyOdXymPm2hWgmpP6n22eu+F",
      "include_colab_link": true
    },
    "kernelspec": {
      "name": "python3",
      "display_name": "Python 3"
    },
    "language_info": {
      "name": "python"
    },
    "accelerator": "GPU"
  },
  "cells": [
    {
      "cell_type": "markdown",
      "metadata": {
        "id": "view-in-github",
        "colab_type": "text"
      },
      "source": [
        "<a href=\"https://colab.research.google.com/github/EfyaDufie2020/Transborder-Freight-Data-Analysis/blob/main/Transborder_Freight_Data.ipynb\" target=\"_parent\"><img src=\"https://colab.research.google.com/assets/colab-badge.svg\" alt=\"Open In Colab\"/></a>"
      ]
    },
    {
      "cell_type": "markdown",
      "source": [
        "## TRANSBORDER FRIEGHT DATA ANALYSIS\n"
      ],
      "metadata": {
        "id": "MU3qCDJD-Ddp"
      }
    },
    {
      "cell_type": "markdown",
      "source": [
        "## Business Understanding\n",
        "\n",
        "### Background\n",
        "The project aims to leverage data analysis to extract actionable insights that address key business objectives. By implementing the CRISP-DM (Cross-Industry Standard Process for Data Mining) framework, this analysis will systematically explore the dataset provided and deliver value through insightful visualizations and actionable recommendations.\n",
        "\n",
        "### Objective\n",
        "The primary objective of this project is to analyze the given dataset to uncover trends, patterns, and insights that can guide informed decision-making. These insights will serve as the foundation for actionable business strategies that align with the overall goals of the organization.\n",
        "\n",
        "### Goals\n",
        "\n",
        "Develop a deep understanding of the dataset to ensure robust and accurate analysis.\n",
        "Identify key analytical questions that will drive the exploration and insights.\n",
        "Use appropriate tools and techniques to preprocess the data, extract insights, and visualize the findings effectively.\n",
        "Document the entire process for reproducibility, transparency, and future reference.\n",
        "\n",
        "### Scope\n",
        "The project will include:\n",
        "\n",
        "Detailed documentation of all steps following the CRISP-DM framework.\n",
        "Seven analytical questions to guide the analysis and visualization.\n",
        "Comprehensive preprocessing to ensure data quality and reliability.\n",
        "Visualizations and insights that directly answer the analytical questions.\n",
        "Deliverables including a GitHub repository, code/script file, visualization outputs, and a presentation summarizing the findings.\n",
        "\n"
      ],
      "metadata": {
        "id": "Gp9G2kKc-MI3"
      }
    },
    {
      "cell_type": "markdown",
      "source": [
        "## Problem Statement\n",
        "Getinnotized is tasked with uncovering meaningful insights from the provided dataset to address business challenges and drive decision-making. However, the dataset is complex and requires extensive preprocessing and analysis to ensure that the insights derived are actionable. The project also demands adherence to a structured methodology (CRISP-DM), effective use of tools, and clear documentation to achieve the following:\n",
        "\n",
        "Identify hidden trends and relationships within the dataset.\n",
        "Address gaps in understanding through targeted analytical questions.\n",
        "Develop actionable solutions to support business objectives based on the insights derived.\n",
        "Communicate findings effectively using data visualizations and a detailed presentation.\n",
        "Document all steps comprehensively to ensure clarity, reproducibility, and ease of understanding for stakeholders.\n",
        "\n",
        "\n",
        "### Challenges to Address\n",
        "\n",
        "Understanding the dataset and identifying missing or inconsistent data.\n",
        "Formulating analytical questions that align with business goals.\n",
        "Selecting and implementing the right tools for data processing, visualization, and analysis.\n",
        "Ensuring clear communication of results to stakeholders through well-designed visualizations and documentation.\n",
        "\n"
      ],
      "metadata": {
        "id": "R8Dk-gsdCHd3"
      }
    },
    {
      "cell_type": "code",
      "source": [],
      "metadata": {
        "id": "Zb7qvCm5-XWa"
      },
      "execution_count": null,
      "outputs": []
    },
    {
      "cell_type": "markdown",
      "source": [
        "### Stakeholders\n",
        "\n",
        "The stakeholders in this project include:\n",
        "\n",
        "1. Bank: The bank wants to understand its customer churn patterns and develop strategies to improve customer retention.\n",
        "2. Data Scientists: The data scientists will analyze the customer churn data, develop the predictive model, and evaluate its performance.\n",
        "3. Marketing and Sales: The marketing and sales teams will use the predictive model to make data-driven decisions to improve customer engagement and retention.\n",
        "\n",
        "\n",
        "### Features\n",
        "\n",
        "   1. age (numeric)\n",
        "   2. job : type of job (categorical: \"admin.\",\"unknown\",\"unemployed\",\"management\",\"housemaid\",\"entrepreneur\",\"student\",\n",
        "                                       \"blue-collar\",\"self-employed\",\"retired\",\"technician\",\"services\")\n",
        "   3. marital : marital status (categorical: \"married\",\"divorced\",\"single\"; note: \"divorced\" means divorced or widowed)\n",
        "   4. education (categorical: \"unknown\",\"secondary\",\"primary\",\"tertiary\")\n",
        "   5. default: has credit in default? (binary: \"yes\",\"no\")\n",
        "   6. balance: average yearly balance, in euros (numeric)\n",
        "   7. housing: has housing loan? (binary: \"yes\",\"no\")\n",
        "   8 . loan: has personal loan? (binary: \"yes\",\"no\")\n",
        "\n",
        "   ##### related with the last contact of the current campaign:\n",
        "   9. contact: contact communication type (categorical: \"unknown\",\"telephone\",\"cellular\")\n",
        "  10. day: last contact day of the month (numeric)\n",
        "  11. month: last contact month of year (categorical: \"jan\", \"feb\", \"mar\", ..., \"nov\", \"dec\")\n",
        "  12. duration: last contact duration, in seconds (numeric)\n",
        "\n",
        "   ##### Other attributes:\n",
        "  13. campaign: number of contacts performed during this campaign and for this client (numeric, includes last contact)\n",
        "  14. pdays: number of days that passed by after the client was last contacted from a previous campaign (numeric, -1 means client was not previously contacted)\n",
        "  15. previous: number of contacts performed before this campaign and for this client (numeric)\n",
        "  16. poutcome: outcome of the previous marketing campaign (categorical: \"unknown\",\"other\",\"failure\",\"success\")\n",
        "\n",
        "   ##### Output variable (desired target):\n",
        "  17. y - has the client subscribed a term deposit? (binary: \"yes\",\"no\")\n",
        "\n",
        "\n",
        "### Hypothesis\n",
        "\n",
        "The hypothesis is that the predictive model developed will have a high accuracy and precision, indicating that it can accurately predict whether a client will subscribe to a term deposit.\n",
        "\n",
        "Null hypothesis:\n",
        "\n",
        "H0: The predictive model developed will have a low accuracy or precision.\n",
        "\n",
        "Alternative Hypothesis:\n",
        "\n",
        "H1: The predictive model developed will have a high accuracy or precision.\n",
        "\n",
        "\n",
        "### Analytcal Questions\n",
        "\n",
        "To answer the above questions, I will perform the following steps:\n",
        "\n",
        "1. Data Exploration: Load the customer churn dataset, perform exploratory data analysis (EDA) to understand the data, identify missing values, and examine the distribution of the target variable (customer churn).\n",
        "2. Data Preprocessing: Handle missing values, handle categorical variables, and perform any necessary data preprocessing steps such as scaling or encoding.\n",
        "3. Feature Selection: Select relevant features that contribute to the target variable."
      ],
      "metadata": {
        "id": "OXpd8BzvHYP0"
      }
    },
    {
      "cell_type": "markdown",
      "source": [],
      "metadata": {
        "id": "kFhs0WAEHaWt"
      }
    },
    {
      "cell_type": "markdown",
      "source": [
        "## Data Understanding\n",
        "\n",
        "\n",
        "Importing all the relevant libraries"
      ],
      "metadata": {
        "id": "z2lHbISNH2xA"
      }
    },
    {
      "cell_type": "code",
      "source": [
        "# Standard Library Imports\n",
        "\n",
        "! pip install pyforest"
      ],
      "metadata": {
        "colab": {
          "base_uri": "https://localhost:8080/"
        },
        "id": "gEz0JNGfIClR",
        "outputId": "85e37501-a28f-4bc5-f69e-029d1c0c5432"
      },
      "execution_count": null,
      "outputs": [
        {
          "output_type": "stream",
          "name": "stdout",
          "text": [
            "Collecting pyforest\n",
            "  Downloading pyforest-1.1.2.tar.gz (17 kB)\n",
            "  Preparing metadata (setup.py) ... \u001b[?25l\u001b[?25hdone\n",
            "Building wheels for collected packages: pyforest\n",
            "  Building wheel for pyforest (setup.py) ... \u001b[?25l\u001b[?25hdone\n",
            "  Created wheel for pyforest: filename=pyforest-1.1.2-py2.py3-none-any.whl size=15897 sha256=b038c85af649fcde3dba706819610981d87853d48c16b84503a4b070b5b0dbb2\n",
            "  Stored in directory: /root/.cache/pip/wheels/50/94/94/c8224da834a4db55f67c86feb7c742111ff051d5f3e17127d8\n",
            "Successfully built pyforest\n",
            "Installing collected packages: pyforest\n",
            "Successfully installed pyforest-1.1.2\n"
          ]
        }
      ]
    },
    {
      "cell_type": "code",
      "source": [
        "from google.colab import drive\n",
        "drive.mount('/content/drive')"
      ],
      "metadata": {
        "id": "20Va3KqGZuYF"
      },
      "execution_count": null,
      "outputs": []
    },
    {
      "cell_type": "markdown",
      "source": [
        "#### Loading all the dataset and Exploratory Data Analysis"
      ],
      "metadata": {
        "id": "4gqBQnh1I5-p"
      }
    },
    {
      "cell_type": "code",
      "source": [
        "# Load the data"
      ],
      "metadata": {
        "id": "GMJQczz7JC7z"
      },
      "execution_count": null,
      "outputs": []
    }
  ]
}